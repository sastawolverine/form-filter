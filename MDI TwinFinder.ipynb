{
 "cells": [
  {
   "cell_type": "code",
   "execution_count": 1,
   "metadata": {},
   "outputs": [
    {
     "name": "stdout",
     "output_type": "stream",
     "text": [
      "Welcome to TwinFinder 1.0\n",
      "Enter details as specified below to find your twin.\n",
      "To skip filling a particular detail, press Enter.\n",
      "Try skipping one or more details to get more matches if no matches are found.\n",
      "\n",
      "Enter background(engg/commerce/other):engg\n",
      "Enter city: ranchi\n",
      "Enter favourite music band/artist: \n",
      "Favourite sport/team: \n",
      "Favourite movie/genre: \n",
      "Favourite TV show: \n",
      "You like to read: \n"
     ]
    },
    {
     "data": {
      "text/html": [
       "<div>\n",
       "<style scoped>\n",
       "    .dataframe tbody tr th:only-of-type {\n",
       "        vertical-align: middle;\n",
       "    }\n",
       "\n",
       "    .dataframe tbody tr th {\n",
       "        vertical-align: top;\n",
       "    }\n",
       "\n",
       "    .dataframe thead th {\n",
       "        text-align: right;\n",
       "    }\n",
       "</style>\n",
       "<table border=\"1\" class=\"dataframe\">\n",
       "  <thead>\n",
       "    <tr style=\"text-align: right;\">\n",
       "      <th></th>\n",
       "      <th>Name</th>\n",
       "      <th>Phone number</th>\n",
       "      <th>Background</th>\n",
       "      <th>No of CAT attempts</th>\n",
       "      <th>City</th>\n",
       "      <th>Are you a music person?</th>\n",
       "      <th>Are you a sports person?</th>\n",
       "      <th>Are you a movies person?</th>\n",
       "      <th>Are you a TV show person?</th>\n",
       "      <th>Do you like reading?</th>\n",
       "      <th>Do you like writing?</th>\n",
       "      <th>Do you like to dance?</th>\n",
       "      <th>Do you like to sing?</th>\n",
       "      <th>Do you like to cook?</th>\n",
       "      <th>Do you like like to travel?</th>\n",
       "      <th>Are you into photography?</th>\n",
       "      <th>Are you a foodie?</th>\n",
       "      <th>Gamer?</th>\n",
       "      <th>Nashe?</th>\n",
       "      <th>Name 3 Fav music bands/artists</th>\n",
       "      <th>1 sport you follow/play and 1 favorite team/player</th>\n",
       "      <th>3 Favourite movies</th>\n",
       "      <th>3 Favourite TV shows</th>\n",
       "      <th>3 Favourite things to read</th>\n",
       "      <th>top 3 places you want to visit</th>\n",
       "      <th>top 3 places you have visited</th>\n",
       "      <th>3 fav dishes</th>\n",
       "    </tr>\n",
       "  </thead>\n",
       "  <tbody>\n",
       "  </tbody>\n",
       "</table>\n",
       "</div>"
      ],
      "text/plain": [
       "Empty DataFrame\n",
       "Columns: [Name, Phone number, Background, No of CAT attempts, City, Are you a music person?, Are you a sports person?, Are you a movies person?, Are you a TV show person?, Do you like reading?, Do you like writing?, Do you like to dance?, Do you like to sing?, Do you like to cook?, Do you like like to travel?, Are you into photography?, Are you a foodie?, Gamer?, Nashe?, Name 3 Fav music bands/artists, 1 sport you follow/play and 1 favorite team/player, 3 Favourite movies, 3 Favourite TV shows, 3 Favourite things to read, top 3 places you want to visit, top 3 places you have visited, 3 fav dishes]\n",
       "Index: []"
      ]
     },
     "execution_count": 1,
     "metadata": {},
     "output_type": "execute_result"
    }
   ],
   "source": [
    "import pandas as pd\n",
    "import re\n",
    "import numpy as np\n",
    "\n",
    "pd.set_option('display.max_columns', 85)\n",
    "pd.set_option('display.max_rows', 200)\n",
    "\n",
    "df = pd.read_csv('mdi.csv')\n",
    "df = df.drop('Timestamp', axis = 1)\n",
    "df = df.replace(np.NaN, '')\n",
    "\n",
    "print('Welcome to TwinFinder 1.0')\n",
    "print('Enter details as specified below to find your twin.')\n",
    "print('To skip filling a particular detail, press Enter.')\n",
    "print('Try skipping one or more details to get more matches if no matches are found.\\n')\n",
    "\n",
    "bg = input('Enter background(engg/commerce/other):')\n",
    "city = input('Enter city: ')\n",
    "musi = input('Enter favourite music band/artist: ')\n",
    "spor = input('Favourite sport/team: ')\n",
    "movi = input('Favourite movie/genre: ')\n",
    "show = input('Favourite TV show: ')\n",
    "read = input('You like to read: ')\n",
    "\n",
    "\n",
    "\n",
    "filtback = (df['Background'].str.contains(bg, flags = re.IGNORECASE))\n",
    "filtcity = (df['City'].str.contains(city, flags = re.IGNORECASE))\n",
    "filtmusi = (df['Name 3 Fav music bands/artists'].str.contains(musi, flags = re.IGNORECASE))\n",
    "filtmovi = (df['3 Favourite movies'].str.contains(movi, flags = re.IGNORECASE))\n",
    "filtshow = (df['3 Favourite TV shows'].str.contains(show, flags = re.IGNORECASE))\n",
    "filtspor = (df['1 sport you follow/play and 1 favorite team/player'].str.contains(spor, flags = re.IGNORECASE))\n",
    "filtread = (df['3 Favourite things to read'].str.contains(read, flags = re.IGNORECASE))\n",
    "\n",
    "df[filtback & filtcity & filtmusi & filtmovi & filtshow & filtspor & filtread]"
   ]
  },
  {
   "cell_type": "code",
   "execution_count": null,
   "metadata": {},
   "outputs": [],
   "source": []
  }
 ],
 "metadata": {
  "kernelspec": {
   "display_name": "Python 3",
   "language": "python",
   "name": "python3"
  },
  "language_info": {
   "codemirror_mode": {
    "name": "ipython",
    "version": 3
   },
   "file_extension": ".py",
   "mimetype": "text/x-python",
   "name": "python",
   "nbconvert_exporter": "python",
   "pygments_lexer": "ipython3",
   "version": "3.8.3"
  }
 },
 "nbformat": 4,
 "nbformat_minor": 4
}
